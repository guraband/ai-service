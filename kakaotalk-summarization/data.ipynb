{
 "cells": [
  {
   "cell_type": "code",
   "execution_count": 5,
   "metadata": {},
   "outputs": [],
   "source": [
    "import glob\n",
    "import json\n",
    "import pickle"
   ]
  },
  {
   "cell_type": "markdown",
   "metadata": {},
   "source": [
    "### 총 50개의 평가용 데이터 케이스 확보 예정"
   ]
  },
  {
   "cell_type": "code",
   "execution_count": 6,
   "metadata": {},
   "outputs": [],
   "source": [
    "def get_eval_data():\n",
    "    return None"
   ]
  },
  {
   "cell_type": "markdown",
   "metadata": {},
   "source": [
    "### 2명의 대화 - 20개"
   ]
  },
  {
   "cell_type": "code",
   "execution_count": 8,
   "metadata": {},
   "outputs": [
    {
     "data": {
      "text/plain": [
       "['P01 : 맞다요즘 싸이월드 새로 생겼다매\\nP02 : 나 싸이월드 복구하고 싶다\\nP01 : 웅 키키귀여우뉴사진\\nP02 : 진짜 추억돋네\\nP01 : 짱많아 옛날 사진들\\nP01 : 맨날 퍼가요~ 이거 했자나\\nP02 : 맞아 싸이월드 미니미\\nP01 : 추억 돋아서 너무조아\\nP02 : 꾸미는거\\nP01 : 마자\\nP02 : 재밌었는데\\nP01 : 귀여워 도토리충전\\nP02 : 네이트온도 하고\\nP02 : 도토리도 환불해준대자나\\nP01 : 마자 키키개웃겨\\nP01 : 요즘 사회적으로 멀 자꾸하나바\\nP02 : 대박이야 진짜\\nP02 : 그니깐 키키\\nP01 : 아니 나오늘 엄마가 뭐 신청해달라그래서\\nP02 : 웅\\nP01 : 지원금 ? 신청함\\nP01 : 진짜 요즘 지원금 엄청 많이 받았어\\nP02 : 와 대박\\nP01 : 뭔지는 잘 모르는데 이것저것 지원해주는거 많아서 좋은듯\\nP02 : 다행이다\\nP01 : 국가제도가 진짜 괜차나\\nP01 : 학교에서도\\nP02 : 두분다\\nP01 : 맨날 장학금 해준다고\\nP02 : 일을 못하는\\nP01 : 이것저것 지원해주자나\\nP02 : 상황이셔서 더\\nP01 : 마자ㅠㅠ\\nP02 : 도움주시고\\nP01 : 나 그래서 진짜 그런거로\\nP02 : 다행이다그래도\\nP01 : 돈 마니받앗어\\nP02 : 와대박',\n",
       " 'P01 : 요즘 중고거래 좀 안나가네\\nP02 : 뭐팔게잇나\\nP01 : 누나방에 뭐 팔거 없ㅇ름?\\nP02 : 널팔아야겟다\\nP01 : 생각해봐\\nP02 : 너요\\nP01 : 음... 넘 비싸서 사람들이 못삼\\nP02 : 음... (과연)\\nP01 : 어허 너 아맞다 누나 그 스벅 물품 봉투에 든거 뭐임\\nP02 : 아 그거 전등\\nP01 : 흠 그거는 안파는거임?\\nP02 : 아니팔면되는데 팔수잇나\\nP01 : 흠... 이놈\\nP02 : 그거실장이원래 자기쓴다해서 내가 선물해줫거든\\nP01 : 인기있을때 팔걸 그랫넹\\nP02 : 그러고 한번썻는데\\nP01 : 아 한번씀?\\nP02 : ㄴㄴ썻는데 안쓴다고돌려줌 짜증남\\nP01 : 으잉?\\nP02 : 그때 그 아이스박스 사야햇는데 으휴 진짜\\nP01 : 실장님...\\nP02 : 아직도화남 으휴\\nP01 : 실땅님... 머리대세요 딱대\\nP02 : 맘에든다해서 그걸로해줫는데\\nP02 : 그니까 딱대라 실장아\\nP01 : 실땅님 안되겠구만\\nP02 : 그래서 팔기도뭐하고해서 저거 한번써서\\nP01 : 근데 당근에 파니 실장님 나오면 웃기겟다\\nP02 : 가뜩이나 낮은가격 5천원에 살걸\\nP01 : 엥\\nP02 : 키키\\nP01 : 그정도밖에 안댐?\\nP02 : 아니한 2-3만원에 팔더라 새거\\nP01 : 아 그래도 낮네\\nP02 : 그니께']"
      ]
     },
     "execution_count": 8,
     "metadata": {},
     "output_type": "execute_result"
    }
   ],
   "source": [
    "conversations = []\n",
    "\n",
    "paths = glob.glob('./resource/297.SNS 데이터 고도화/01-1.정식개방데이터/Validation/02.라벨링데이터/VL/*json')\n",
    "target_count = 20\n",
    "count = 0\n",
    "\n",
    "for path in paths:\n",
    "    with open(path, 'r') as f:\n",
    "        conv_dict = json.load(f)\n",
    "        if conv_dict['header']['dialogueInfo']['numberOfParticipants'] == 2 and conv_dict['header']['dialogueInfo']['numberOfUtterances'] > 30:\n",
    "            conv_list = []\n",
    "            for d in conv_dict['body']:\n",
    "                conv_list.append(d['participantID'] + ' : ' + d['utterance'])\n",
    "            if conv_list[0] == conv_list[1]:\n",
    "                print(\"대화 중복\")\n",
    "                continue\n",
    "            conv_text = '\\n'.join(conv_list)\n",
    "            conversations.append(conv_text)\n",
    "            count +=1\n",
    "            if count == target_count:\n",
    "                break\n",
    "\n",
    "conversations[:2]\n"
   ]
  },
  {
   "cell_type": "markdown",
   "metadata": {},
   "source": [
    "### 3명 이상의 대화 - 30개"
   ]
  },
  {
   "cell_type": "code",
   "execution_count": 9,
   "metadata": {},
   "outputs": [
    {
     "name": "stdout",
     "output_type": "stream",
     "text": [
      "대화 중복\n",
      "대화 중복\n",
      "대화 중복\n",
      "대화 중복\n",
      "대화 중복\n"
     ]
    },
    {
     "data": {
      "text/plain": [
       "30"
      ]
     },
     "execution_count": 9,
     "metadata": {},
     "output_type": "execute_result"
    }
   ],
   "source": [
    "target_count = 30\n",
    "count = 0\n",
    "\n",
    "for path in paths:\n",
    "    with open(path, 'r') as f:\n",
    "        conv_dict = json.load(f)\n",
    "        if conv_dict['header']['dialogueInfo']['numberOfParticipants'] > 2 and conv_dict['header']['dialogueInfo']['numberOfUtterances'] > 30:\n",
    "            conv_list = []\n",
    "            for d in conv_dict['body']:\n",
    "                conv_list.append(d['participantID'] + ' : ' + d['utterance'])\n",
    "            if conv_list[0] == conv_list[1]:\n",
    "                print(\"대화 중복\")\n",
    "                continue\n",
    "            conv_text = '\\n'.join(conv_list)\n",
    "            conversations.append(conv_text)\n",
    "            count +=1\n",
    "            if count == target_count:\n",
    "                break\n",
    "\n",
    "count\n"
   ]
  },
  {
   "cell_type": "code",
   "execution_count": 11,
   "metadata": {},
   "outputs": [
    {
     "name": "stdout",
     "output_type": "stream",
     "text": [
      "618\n",
      "638\n",
      "819\n",
      "1028\n",
      "1390\n",
      "630\n",
      "1086\n",
      "1584\n",
      "708\n",
      "1521\n",
      "793\n",
      "1002\n",
      "1266\n",
      "798\n",
      "1216\n",
      "1113\n",
      "1032\n",
      "550\n",
      "598\n",
      "1181\n",
      "581\n",
      "665\n",
      "820\n",
      "1014\n",
      "671\n",
      "610\n",
      "850\n",
      "795\n",
      "907\n",
      "829\n",
      "913\n",
      "856\n",
      "773\n",
      "904\n",
      "1212\n",
      "1016\n",
      "602\n",
      "1042\n",
      "1129\n",
      "738\n",
      "1083\n",
      "1651\n",
      "806\n",
      "1051\n",
      "918\n",
      "902\n",
      "534\n",
      "603\n",
      "1302\n",
      "1318\n"
     ]
    }
   ],
   "source": [
    "for conv in conversations:\n",
    "    print(len(conv))"
   ]
  },
  {
   "cell_type": "markdown",
   "metadata": {},
   "source": [
    "\\# 샘플 데이터들이 3000자를 넘지 않는 경우가 많아서 강의에서는 claude를 사용해서 샘플데이터의 대화 내용을 AI로 작성하여 일부 데이터의 볼륨을 늘렸음. (./resource/eval_data.pickle)"
   ]
  },
  {
   "cell_type": "code",
   "execution_count": 14,
   "metadata": {},
   "outputs": [
    {
     "name": "stdout",
     "output_type": "stream",
     "text": [
      "580\n",
      "603\n",
      "788\n",
      "983\n",
      "1351\n",
      "598\n",
      "1050\n",
      "1520\n",
      "677\n",
      "1490\n",
      "757\n",
      "948\n",
      "1230\n",
      "763\n",
      "1184\n",
      "1080\n",
      "998\n",
      "514\n",
      "565\n",
      "1148\n",
      "549\n",
      "634\n",
      "782\n",
      "978\n",
      "640\n",
      "579\n",
      "818\n",
      "763\n",
      "872\n",
      "791\n",
      "877\n",
      "823\n",
      "737\n",
      "871\n",
      "1170\n",
      "970\n",
      "570\n",
      "1000\n",
      "1097\n",
      "705\n",
      "1047\n",
      "1611\n",
      "771\n",
      "1018\n",
      "879\n",
      "871\n",
      "503\n",
      "572\n",
      "3150\n",
      "1272\n"
     ]
    }
   ],
   "source": [
    "with open('./resource/eval_data.pickle', 'rb') as f:\n",
    "    eval_data = pickle.load(f)\n",
    "\n",
    "for conv in eval_data:\n",
    "    print(len(conv))"
   ]
  }
 ],
 "metadata": {
  "kernelspec": {
   "display_name": ".venv",
   "language": "python",
   "name": "python3"
  },
  "language_info": {
   "codemirror_mode": {
    "name": "ipython",
    "version": 3
   },
   "file_extension": ".py",
   "mimetype": "text/x-python",
   "name": "python",
   "nbconvert_exporter": "python",
   "pygments_lexer": "ipython3",
   "version": "3.10.13"
  }
 },
 "nbformat": 4,
 "nbformat_minor": 2
}
