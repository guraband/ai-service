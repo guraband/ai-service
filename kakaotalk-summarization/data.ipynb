{
 "cells": [
  {
   "cell_type": "code",
   "execution_count": 1,
   "metadata": {},
   "outputs": [],
   "source": [
    "import glob\n",
    "import json\n",
    "import pickle"
   ]
  },
  {
   "cell_type": "markdown",
   "metadata": {},
   "source": [
    "### 총 50개의 평가용 데이터 케이스 확보 예정"
   ]
  },
  {
   "cell_type": "code",
   "execution_count": 4,
   "metadata": {},
   "outputs": [],
   "source": [
    "def get_eval_data():\n",
    "    return None"
   ]
  },
  {
   "cell_type": "markdown",
   "metadata": {},
   "source": [
    "### 2명의 대화 - 20개"
   ]
  },
  {
   "cell_type": "code",
   "execution_count": 5,
   "metadata": {},
   "outputs": [
    {
     "data": {
      "text/plain": [
       "[]"
      ]
     },
     "execution_count": 5,
     "metadata": {},
     "output_type": "execute_result"
    }
   ],
   "source": [
    "conversations = []\n",
    "\n",
    "paths = glob.glob('../../data/297.SNS 데이터 고도화/01-1.정식개방데이터/Validation/02.라벨링데이터/VL/*json')\n",
    "target_count = 20\n",
    "count = 0\n",
    "\n",
    "for path in paths:\n",
    "    with open(path, 'r') as f:\n",
    "        conv_dict = json.load(f)\n",
    "        if conv_dict['header']['dialogueInfo']['numberOfParticipants'] == 2 and conv_dict['header']['dialogueInfo']['numberOfUtterances'] > 30:\n",
    "            conv_list = []\n",
    "            for d in conv_dict['body']:\n",
    "                conv_list.append(d['participantID'] + ' : ' + d['utterance'])\n",
    "            if conv_list[0] == conv_list[1]:\n",
    "                print(\"대화 중복\")\n",
    "                continue\n",
    "            conv_text = '\\n'.join(conv_list)\n",
    "            conversations.append(conv_text)\n",
    "            count +=1\n",
    "            if count == target_count:\n",
    "                break\n",
    "\n",
    "conversations[:2]\n"
   ]
  },
  {
   "cell_type": "markdown",
   "metadata": {},
   "source": [
    "### 3명 이상의 대화 - 30개"
   ]
  },
  {
   "cell_type": "code",
   "execution_count": 9,
   "metadata": {},
   "outputs": [
    {
     "name": "stdout",
     "output_type": "stream",
     "text": [
      "대화 중복\n",
      "대화 중복\n",
      "대화 중복\n",
      "대화 중복\n",
      "대화 중복\n"
     ]
    },
    {
     "data": {
      "text/plain": [
       "30"
      ]
     },
     "execution_count": 9,
     "metadata": {},
     "output_type": "execute_result"
    }
   ],
   "source": [
    "target_count = 30\n",
    "count = 0\n",
    "\n",
    "for path in paths:\n",
    "    with open(path, 'r') as f:\n",
    "        conv_dict = json.load(f)\n",
    "        if conv_dict['header']['dialogueInfo']['numberOfParticipants'] > 2 and conv_dict['header']['dialogueInfo']['numberOfUtterances'] > 30:\n",
    "            conv_list = []\n",
    "            for d in conv_dict['body']:\n",
    "                conv_list.append(d['participantID'] + ' : ' + d['utterance'])\n",
    "            if conv_list[0] == conv_list[1]:\n",
    "                print(\"대화 중복\")\n",
    "                continue\n",
    "            conv_text = '\\n'.join(conv_list)\n",
    "            conversations.append(conv_text)\n",
    "            count +=1\n",
    "            if count == target_count:\n",
    "                break\n",
    "\n",
    "count\n"
   ]
  },
  {
   "cell_type": "code",
   "execution_count": 11,
   "metadata": {},
   "outputs": [
    {
     "name": "stdout",
     "output_type": "stream",
     "text": [
      "618\n",
      "638\n",
      "819\n",
      "1028\n",
      "1390\n",
      "630\n",
      "1086\n",
      "1584\n",
      "708\n",
      "1521\n",
      "793\n",
      "1002\n",
      "1266\n",
      "798\n",
      "1216\n",
      "1113\n",
      "1032\n",
      "550\n",
      "598\n",
      "1181\n",
      "581\n",
      "665\n",
      "820\n",
      "1014\n",
      "671\n",
      "610\n",
      "850\n",
      "795\n",
      "907\n",
      "829\n",
      "913\n",
      "856\n",
      "773\n",
      "904\n",
      "1212\n",
      "1016\n",
      "602\n",
      "1042\n",
      "1129\n",
      "738\n",
      "1083\n",
      "1651\n",
      "806\n",
      "1051\n",
      "918\n",
      "902\n",
      "534\n",
      "603\n",
      "1302\n",
      "1318\n"
     ]
    }
   ],
   "source": [
    "for conv in conversations:\n",
    "    print(len(conv))"
   ]
  },
  {
   "cell_type": "markdown",
   "metadata": {},
   "source": [
    "\\# 샘플 데이터들이 3000자를 넘지 않는 경우가 많아서 강의에서는 claude를 사용해서 샘플데이터의 대화 내용을 AI로 작성하여 일부 데이터의 볼륨을 늘렸음. (./resource/eval_data.pickle)"
   ]
  },
  {
   "cell_type": "code",
   "execution_count": 14,
   "metadata": {},
   "outputs": [
    {
     "name": "stdout",
     "output_type": "stream",
     "text": [
      "580\n",
      "603\n",
      "788\n",
      "983\n",
      "1351\n",
      "598\n",
      "1050\n",
      "1520\n",
      "677\n",
      "1490\n",
      "757\n",
      "948\n",
      "1230\n",
      "763\n",
      "1184\n",
      "1080\n",
      "998\n",
      "514\n",
      "565\n",
      "1148\n",
      "549\n",
      "634\n",
      "782\n",
      "978\n",
      "640\n",
      "579\n",
      "818\n",
      "763\n",
      "872\n",
      "791\n",
      "877\n",
      "823\n",
      "737\n",
      "871\n",
      "1170\n",
      "970\n",
      "570\n",
      "1000\n",
      "1097\n",
      "705\n",
      "1047\n",
      "1611\n",
      "771\n",
      "1018\n",
      "879\n",
      "871\n",
      "503\n",
      "572\n",
      "3150\n",
      "1272\n"
     ]
    }
   ],
   "source": [
    "with open('./resource/eval_data.pickle', 'rb') as f:\n",
    "    eval_data = pickle.load(f)\n",
    "\n",
    "for conv in eval_data:\n",
    "    print(len(conv))"
   ]
  }
 ],
 "metadata": {
  "kernelspec": {
   "display_name": "faq",
   "language": "python",
   "name": "python3"
  },
  "language_info": {
   "codemirror_mode": {
    "name": "ipython",
    "version": 3
   },
   "file_extension": ".py",
   "mimetype": "text/x-python",
   "name": "python",
   "nbconvert_exporter": "python",
   "pygments_lexer": "ipython3",
   "version": "3.13.1"
  }
 },
 "nbformat": 4,
 "nbformat_minor": 2
}
