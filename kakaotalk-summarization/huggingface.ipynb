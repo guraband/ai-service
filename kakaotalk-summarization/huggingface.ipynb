{
 "cells": [
  {
   "cell_type": "code",
   "execution_count": null,
   "metadata": {},
   "outputs": [],
   "source": []
  },
  {
   "cell_type": "markdown",
   "metadata": {},
   "source": [
    "### 파일 다운로드 예제"
   ]
  },
  {
   "cell_type": "code",
   "execution_count": null,
   "metadata": {},
   "outputs": [],
   "source": [
    "from huggingface_hub import hf_hub_download\n",
    "\n",
    "hf_hub_download(\n",
    "    repo_id=\"junelee/sharegpt_deepl_ko\",\n",
    "    filename=\"ko_database.json\",\n",
    "    repo_type=\"dataset\",\n",
    "    local_dir=\"./resource/ko_dataset\",\n",
    "    local_dir_use_symlinks=False\n",
    ")\n"
   ]
  }
 ],
 "metadata": {
  "kernelspec": {
   "display_name": ".venv",
   "language": "python",
   "name": "python3"
  },
  "language_info": {
   "name": "python",
   "version": "3.10.13"
  }
 },
 "nbformat": 4,
 "nbformat_minor": 2
}
