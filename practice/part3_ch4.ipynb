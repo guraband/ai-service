{
 "cells": [
  {
   "cell_type": "code",
   "execution_count": 2,
   "metadata": {},
   "outputs": [],
   "source": [
    "import os\n",
    "from openai import OpenAI\n",
    "\n",
    "OPENAI_API_KEY = os.environ[\"OPENAI_API_KEY\"]\n",
    "client = OpenAI(api_key=OPENAI_API_KEY)"
   ]
  },
  {
   "cell_type": "markdown",
   "metadata": {},
   "source": [
    "### 실습 1. KMMLU 한글 객관식 문제"
   ]
  },
  {
   "cell_type": "code",
   "execution_count": 4,
   "metadata": {},
   "outputs": [],
   "source": [
    "question = 'x, y가 세 부등식 y<=x+3, y<=-4x+3, y >= 0을 만족할 때, x+y의 최댓값을 M, 최솟값을 m이라 하면 M-m의 값은?'\n",
    "\n",
    "A = 4\n",
    "B = 6\n",
    "C = 8\n",
    "D = 10\n"
   ]
  },
  {
   "cell_type": "code",
   "execution_count": 10,
   "metadata": {},
   "outputs": [
    {
     "name": "stdout",
     "output_type": "stream",
     "text": [
      "주어진 부등식들을 그래프에 나타내어 교차점을 찾아보겠습니다.\n",
      "\n",
      "1. **부등식 1**: \\( y \\leq x + 3 \\)\n",
      "2. **부등식 2**: \\( y \\leq -4x + 3 \\)\n",
      "3. **부등식 3**: \\( y \\geq 0 \\)\n",
      "\n",
      "이제 각 부등식의 경계선을 그려보겠습니다.\n",
      "\n",
      "1. \\( y = x + 3 \\)는 기울기가 1인 직선입니다.\n",
      "2. \\( y = -4x + 3 \\)는 기울기가 -4인 직선입니다.\n",
      "3. \\( y = 0 \\)는 x축입니다.\n",
      "\n",
      "이제 이 세 직선의 교차점을 찾아보겠습니다.\n",
      "\n",
      "### 교차점 계산\n",
      "\n",
      "1. **직선 1과 직선 2의 교차점**:\n",
      "   \\[\n",
      "   x + 3 = -4x + 3\n",
      "   \\]\n",
      "   \\[\n",
      "   5x = 0 \\implies x = 0\n",
      "   \\]\n",
      "   \\( y = 0 + 3 = 3 \\)이므로 교차점은 \\( (0, 3) \\)입니다.\n",
      "\n",
      "2. **직선 1과 직선 3의 교차점**:\n",
      "   \\[\n",
      "   0 = x + 3 \\implies x = -3\n",
      "   \\]\n",
      "   교차점은 \\( (-3, 0) \\)입니다.\n",
      "\n",
      "3. **직선 2와 직선 3의 교차점**:\n",
      "   \\[\n",
      "   0 = -4x + 3 \\implies 4x = 3 \\implies x = \\frac{3}{4}\n",
      "   \\]\n",
      "   \\( y = 0 \\)이므로 교차점은 \\( \\left(\\frac{3}{4}, 0\\right) \\)입니다.\n",
      "\n",
      "### 유효한 영역\n",
      "\n",
      "이제 세 점 \\( (0, 3) \\), \\( (-3, 0) \\), \\( \\left(\\frac{3}{4}, 0\\right) \\)를 이용하여 \\( x + y \\)의 값을 계산해 보겠습니다.\n",
      "\n",
      "1. \\( (0, 3) \\): \\( x + y = 0 + 3 = 3 \\)\n",
      "2. \\( (-3, 0) \\): \\( x + y = -3 + 0 = -3 \\)\n",
      "3. \\( \\left(\\frac{3}{4}, 0\\right) \\): \\( x + y = \\frac{3}{4} + 0 = \\frac{3}{4} \\)\n",
      "\n",
      "### 최댓값과 최솟값\n",
      "\n",
      "- 최댓값 \\( M = 3 \\)\n",
      "- 최솟값 \\( m = -3 \\)\n",
      "\n",
      "따라서 \\( M - m = 3 - (-3) = 3 + 3 = 6 \\)입니다.\n",
      "\n",
      "정답은 **B. 6**입니다.\n"
     ]
    }
   ],
   "source": [
    "prompt = f\"\"\"{question}\n",
    "\n",
    "A. {A}\n",
    "B. {B}\n",
    "C. {C}\n",
    "D. {D}\n",
    "\n",
    "정답 : \"\"\"\n",
    "\n",
    "completion = client.chat.completions.create(\n",
    "    # model='gpt-3.5-turbo-0125',\n",
    "    model='gpt-4o-mini',\n",
    "    messages=[{\n",
    "        'role':'user',\n",
    "        'content':prompt\n",
    "    }],\n",
    "    temperature=0.0\n",
    ")\n",
    "\n",
    "print(completion.choices[0].message.content)"
   ]
  },
  {
   "cell_type": "code",
   "execution_count": 11,
   "metadata": {},
   "outputs": [
    {
     "name": "stdout",
     "output_type": "stream",
     "text": [
      "C. 8\n"
     ]
    }
   ],
   "source": [
    "completion = client.chat.completions.create(\n",
    "    model='gpt-3.5-turbo-0125',\n",
    "    messages=[{\n",
    "        'role':'user',\n",
    "        'content':prompt\n",
    "    }],\n",
    "    temperature=0.0\n",
    ")\n",
    "\n",
    "print(completion.choices[0].message.content)"
   ]
  },
  {
   "cell_type": "markdown",
   "metadata": {},
   "source": [
    "### 고도화 포인트 1\n",
    "- Prompt를 한글에서 영어로\n",
    "- 페르소나 부여"
   ]
  },
  {
   "cell_type": "code",
   "execution_count": 34,
   "metadata": {},
   "outputs": [
    {
     "name": "stdout",
     "output_type": "stream",
     "text": [
      "C. 8\n"
     ]
    }
   ],
   "source": [
    "prompt = f\"\"\"You are an Professional mathmatics. Below is given a math question in Korean.\n",
    "\n",
    "{question}\n",
    "A. {A}\n",
    "B. {B}\n",
    "C. {C}\n",
    "D. {D}\n",
    "\n",
    "Answer : \"\"\"\n",
    "\n",
    "completion = client.chat.completions.create(\n",
    "    model='gpt-3.5-turbo-0125',\n",
    "    messages=[{\n",
    "        'role':'user',\n",
    "        'content':prompt\n",
    "    }],\n",
    "    temperature=0.0\n",
    ")\n",
    "\n",
    "print(completion.choices[0].message.content)"
   ]
  },
  {
   "cell_type": "markdown",
   "metadata": {},
   "source": [
    "### 고도화 포인트 2\n",
    "- 차근차근 생각하라고 이야기해주기"
   ]
  },
  {
   "cell_type": "code",
   "execution_count": 37,
   "metadata": {},
   "outputs": [
    {
     "name": "stdout",
     "output_type": "stream",
     "text": [
      "C. 8\n",
      "\n",
      "Reasoning:\n",
      "Given the inequalities y <= x + 3, y <= -4x + 3, and y >= 0, we need to find the maximum and minimum values of x + y.\n",
      "\n",
      "To find the maximum value of x + y, we need to find the point of intersection of the lines y = x + 3 and y = -4x + 3. Solving these two equations simultaneously, we get x = -1 and y = 2. Therefore, the maximum value of x + y is 1 + 2 = 3.\n",
      "\n",
      "To find the minimum value of x + y, we need to find the point where the line y = x + 3 intersects the y = 0 line. Solving these two equations simultaneously, we get x = -3 and y = 0. Therefore, the minimum value of x + y is -3.\n",
      "\n",
      "Therefore, M - m = 3 - (-3) = 6. So, the correct answer is 6.\n"
     ]
    }
   ],
   "source": [
    "prompt = f\"\"\"You are a Professional in Mathematics. Below is given a math question in Korean.\n",
    "You are to think carefully about the question and choose one of four given answers. Only one of them is true.\n",
    "Give reasons about why you think your answer is correct.\n",
    "\n",
    "{question}\n",
    "A. {A}\n",
    "B. {B}\n",
    "C. {C}\n",
    "D. {D}\n",
    "Answer:\"\"\"\n",
    "\n",
    "completion = client.chat.completions.create(\n",
    "    model='gpt-3.5-turbo-0125',\n",
    "    messages=[{'role': 'user', 'content': prompt}],\n",
    "    temperature=0.0\n",
    ")\n",
    "\n",
    "print(completion.choices[0].message.content)"
   ]
  },
  {
   "cell_type": "code",
   "execution_count": 26,
   "metadata": {},
   "outputs": [
    {
     "name": "stdout",
     "output_type": "stream",
     "text": [
      "B. 6\n",
      "\n",
      "Reasoning:\n",
      "Given the inequalities y <= x + 3, y <= -4x + 3, and y >= 0, we can find the feasible region by graphing the inequalities. The feasible region is the area where all three inequalities overlap.\n",
      "\n",
      "By graphing the inequalities, we can see that the feasible region is a triangle with vertices at (0, 0), (3/5, 3), and (3, 0). \n",
      "\n",
      "To find the maximum value of x + y, we need to find the point on the boundary of the feasible region that maximizes x + y. This point is (3/5, 3), where x = 3/5 and y = 3. Therefore, the maximum value of x + y (M) is 3 + 3 = 6.\n",
      "\n",
      "To find the minimum value of x + y, we need to find the point on the boundary of the feasible region that minimizes x + y. This point is (3, 0), where x = 3 and y = 0. Therefore, the minimum value of x + y (m) is 3 + 0 = 3.\n",
      "\n",
      "Therefore, M - m = 6 - 3 = 3. So, the correct answer is B. 6.\n"
     ]
    }
   ],
   "source": [
    "# Prompt 출처: KMMLU 논문에서 실제로 평가에 사용한 Prompt (논문: https://arxiv.org/pdf/2402.11548.pdf)\n",
    "\n",
    "prompt = f\"\"\"You are a Professional in Mathematics. Below is given a math question in Korean.\n",
    "You are to think carefully about the question and choose one of four given answers. Only one of them is true.\n",
    "Give reasons about why you think your answer is correct.\n",
    "\n",
    "{question}\n",
    "A. {A}\n",
    "B. {B}\n",
    "C. {C}\n",
    "D. {D}\n",
    "Answer：\"\"\"\n",
    "\n",
    "completion = client.chat.completions.create(\n",
    "    model='gpt-3.5-turbo-0125',\n",
    "    messages=[{'role': 'user', 'content': prompt}],\n",
    "    temperature=0.0\n",
    ")\n",
    "\n",
    "print(completion.choices[0].message.content)"
   ]
  },
  {
   "cell_type": "code",
   "execution_count": null,
   "metadata": {},
   "outputs": [],
   "source": [
    "#### 같은 프롬프트지만 마지막 줄 Answer 다음의 문자가 \"：\"(U+FF1A)일 때와 \":\"(U+003A)일 때의 답변이 달랐다. 이해할 수가 없다.\n"
   ]
  }
 ],
 "metadata": {
  "kernelspec": {
   "display_name": ".venv",
   "language": "python",
   "name": "python3"
  },
  "language_info": {
   "codemirror_mode": {
    "name": "ipython",
    "version": 3
   },
   "file_extension": ".py",
   "mimetype": "text/x-python",
   "name": "python",
   "nbconvert_exporter": "python",
   "pygments_lexer": "ipython3",
   "version": "3.10.13"
  }
 },
 "nbformat": 4,
 "nbformat_minor": 2
}
