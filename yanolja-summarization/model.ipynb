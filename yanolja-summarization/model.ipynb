{
 "cells": [
  {
   "cell_type": "code",
   "execution_count": 5,
   "metadata": {},
   "outputs": [
    {
     "name": "stdout",
     "output_type": "stream",
     "text": [
      "GPT-4o와 GPT-4o-mini-2024-07-18은 OpenAI의 두 가지 모델로, 주로 크기와 성능, 용도에 따라 차이가 있습니다. \n",
      "\n",
      "1. **모델 크기**:\n",
      "   - **GPT-4o**: 일반적으로 더 큰 모델로, 더 많은 파라미터를 가지고 있어 복잡한 작업을 수행하는 데 유리합니다.\n",
      "   - **GPT-4o-mini**: 상대적으로 작은 모델로, 경량화되어 있어 빠른 응답 속도와 낮은 자원 소모가 특징입니다.\n",
      "\n",
      "2. **성능**:\n",
      "   - **GPT-4o**: 더 높은 성능을 제공하며, 복잡한 질문이나 작업에 대해 더 깊이 있는 답변을 생성할 수 있습니다.\n",
      "   - **GPT-4o-mini**: 성능은 다소 떨어질 수 있지만, 여전히 많은 작업을 수행할 수 있으며, 특히 자원이 제한된 환경에서 유용합니다.\n",
      "\n",
      "3. **용도**:\n",
      "   - **GPT-4o**: 연구, 고급 애플리케이션, 복잡한 대화 시스템 등에서 사용됩니다.\n",
      "   - **GPT-4o-mini**: 모바일 애플리케이션, 실시간 응답이 필요한 서비스 등에서 더 적합합니다.\n",
      "\n",
      "4. **업데이트 날짜**:\n",
      "   - **GPT-4o-mini-2024-07-18**: 이 모델은 특정 날짜에 업데이트된 버전으로, 최신 데이터와 개선 사항이 반영되어 있을 가능성이 높습니다.\n",
      "\n",
      "이러한 차이점들은 사용자의 필요에 따라 적합한 모델을 선택하는 데 도움이 됩니다.\n"
     ]
    }
   ],
   "source": [
    "import os\n",
    "from openai import OpenAI\n",
    "\n",
    "OPENAI_API_KEY = os.environ[\"OPENAI_API_KEY\"]\n",
    "\n",
    "client = OpenAI(api_key=OPENAI_API_KEY)\n",
    "\n",
    "completion = client.chat.completions.create(\n",
    "    model='gpt-4o-mini-2024-07-18',\n",
    "    messages=[{'role':'user', 'content':'gpt-4o와 gpt-4o-mini-2024-07-18의 차이에 대해 알려줘'}],\n",
    "    temperature=0.0\n",
    ")\n",
    "\n",
    "print(completion.choices[0].message.content)\n"
   ]
  },
  {
   "cell_type": "code",
   "execution_count": 8,
   "metadata": {},
   "outputs": [
    {
     "data": {
      "text/plain": [
       "[{'review': '적절한 가격에 9시간 스테이를 활용할 수 있어서 좋았습니다.', 'stars': 5, 'date': '1일 전'},\n",
       " {'review': '시간대 선택이 좋으네요', 'stars': 4, 'date': '1일 전'},\n",
       " {'review': '지하철 역과 가깝고 코엑스 및 주변 부대시설과 접근이 용이해요~',\n",
       "  'stars': 5,\n",
       "  'date': '2024.09.04'}]"
      ]
     },
     "execution_count": 8,
     "metadata": {},
     "output_type": "execute_result"
    }
   ],
   "source": [
    "import json\n",
    "\n",
    "with open('./resource/reviews.json', 'r') as f:\n",
    "    reviews = json.load(f)\n",
    "\n",
    "reviews[:3]"
   ]
  },
  {
   "cell_type": "code",
   "execution_count": 17,
   "metadata": {},
   "outputs": [
    {
     "name": "stdout",
     "output_type": "stream",
     "text": [
      "['[REVIEW_START]적절한 가격에 9시간 스테이를 활용할 수 있어서 좋았습니다.[REVIEW_END]', '[REVIEW_START]지하철 역과 가깝고 코엑스 및 주변 부대시설과 접근이 용이해요~[REVIEW_END]', '[REVIEW_START]깨끗하고 부대시설이 좋았어요!![REVIEW_END]']\n",
      "['[REVIEW_START]시간대 선택이 좋으네요[REVIEW_END]', '[REVIEW_START]진짜 작아요 정말로 그냥접근성 하나만보고 잤어요[REVIEW_END]', '[REVIEW_START]네 그냥 전반적으로 그냥 그래요[REVIEW_END]']\n",
      "165 55\n"
     ]
    },
    {
     "data": {
      "text/plain": [
       "'[REVIEW_START]시간대 선택이 좋으네요[REVIEW_END]\\n[REVIEW_START]진짜 작아요 정말로 그냥접근성 하나만보고 잤어요[REVIEW_END]\\n[REVIEW_'"
      ]
     },
     "execution_count": 17,
     "metadata": {},
     "output_type": "execute_result"
    }
   ],
   "source": [
    "# good = 별점 5개\n",
    "# bad = 별점 4개 이하\n",
    "SPECIAL_TOKEN_PREFIX = '[REVIEW_START]'\n",
    "SPECIAL_TOKEN_SUFFIX = '[REVIEW_END]'\n",
    "good_reviews, bad_reviews = [], []\n",
    "for r in reviews:\n",
    "    if r['stars'] >= 5:\n",
    "        good_reviews.append(f\"{SPECIAL_TOKEN_PREFIX}{r['review']}{SPECIAL_TOKEN_SUFFIX}\")\n",
    "    else:\n",
    "        bad_reviews.append(f\"{SPECIAL_TOKEN_PREFIX}{r['review']}{SPECIAL_TOKEN_SUFFIX}\")\n",
    "\n",
    "print(good_reviews[:3])\n",
    "print(bad_reviews[:3])\n",
    "print(len(good_reviews), len(bad_reviews))\n",
    "\n",
    "good_reviews_text = '\\n'.join(good_reviews)\n",
    "bad_reviews_text = '\\n'.join(bad_reviews)\n",
    "\n",
    "bad_reviews_text[:100]"
   ]
  },
  {
   "cell_type": "code",
   "execution_count": 19,
   "metadata": {},
   "outputs": [
    {
     "data": {
      "text/plain": [
       "'[REVIEW_START]적절한 가격에 9시간 스테이를 활용할 수 있어서 좋았습니다.[REVIEW_END]\\n[REVIEW_START]지하철 역과 가깝고 코엑스 및 주변 부대시설과 '"
      ]
     },
     "execution_count": 19,
     "metadata": {},
     "output_type": "execute_result"
    }
   ],
   "source": [
    "import datetime\n",
    "from dateutil import parser\n",
    "\n",
    "# 전처리 함수\n",
    "def preprocess_reviews(path='./resource/reviews.json'):\n",
    "    \n",
    "    with open(path, 'r', encoding='utf-8') as f:\n",
    "        reviews = json.load(f)\n",
    "\n",
    "    # good = 별점 5개\n",
    "    # bad = 별점 4개 이하\n",
    "    SPECIAL_TOKEN_PREFIX = '[REVIEW_START]'\n",
    "    SPECIAL_TOKEN_SUFFIX = '[REVIEW_END]'\n",
    "    good_reviews, bad_reviews = [], []\n",
    "\n",
    "    current_date = datetime.datetime.now()\n",
    "    date_boundary = current_date - datetime.timedelta(days=6*30)\n",
    "\n",
    "    for r in reviews:\n",
    "        review_date_string = r['date']\n",
    "        try:\n",
    "            review_date = parser.parse(review_date_string)\n",
    "        except (ValueError, TypeError):\n",
    "            # '22시간 전' 같은 문자로 된 날짜는 현재 날짜로 처리\n",
    "            review_date = current_date\n",
    "\n",
    "        # 6개월 이전 리뷰는 제외\n",
    "        if review_date < date_boundary:\n",
    "            continue\n",
    "\n",
    "        if r['stars'] >= 5:\n",
    "            good_reviews.append(f\"{SPECIAL_TOKEN_PREFIX}{r['review']}{SPECIAL_TOKEN_SUFFIX}\")\n",
    "        else:\n",
    "            bad_reviews.append(f\"{SPECIAL_TOKEN_PREFIX}{r['review']}{SPECIAL_TOKEN_SUFFIX}\")\n",
    "\n",
    "    good_reviews_text = '\\n'.join(good_reviews)\n",
    "    bad_reviews_text = '\\n'.join(bad_reviews)\n",
    "\n",
    "    return good_reviews_text, bad_reviews_text\n",
    "\n",
    "good, bad = preprocess_reviews()\n"
   ]
  },
  {
   "cell_type": "markdown",
   "metadata": {},
   "source": [
    "평가용 함수 작성\n",
    "평가 기준 설정\n",
    "\n",
    "MT-Bench 논문 기반 Pairwise Comparision (=LLM 기반 평가)\n",
    "비교하는 방식 vs. 점수 매기는 방식\n",
    "점수라는게 애매 할 수 있음 (ex. 어느 정도의 요약 품질이 3점인가?)\n",
    "경험상 점수보다는 비교가 상대적으로 더 정확한 편\n",
    "평가 스크립트 작성\n",
    "\n",
    "MT-Bench 논문 Prompt에서 일부 단어만 수정 (ex. Korean summaries, accommodations)"
   ]
  },
  {
   "cell_type": "code",
   "execution_count": 22,
   "metadata": {},
   "outputs": [],
   "source": [
    "def pairwise_eval(reviews, answer_a, answer_b):\n",
    "    eval_prompt = f\"\"\"[System]\n",
    "Please act as an impartial judge and evaluate the quality of the Korean summaries provided by two\n",
    "AI assistants to the set of user reviews on accommodations displayed below. You should choose the assistant that\n",
    "follows the user’s instructions and answers the user’s question better. Your evaluation\n",
    "should consider factors such as the helpfulness, relevance, accuracy, depth, creativity,\n",
    "and level of detail of their responses. Begin your evaluation by comparing the two\n",
    "responses and provide a short explanation. Avoid any position biases and ensure that the\n",
    "order in which the responses were presented does not influence your decision. Do not allow\n",
    "the length of the responses to influence your evaluation. Do not favor certain names of\n",
    "the assistants. Be as objective as possible. After providing your explanation, output your\n",
    "final verdict by strictly following this format: \"[[A]]\" if assistant A is better, \"[[B]]\"\n",
    "if assistant B is better, and \"[[C]]\" for a tie.\n",
    "[User Reviews]\n",
    "{reviews}\n",
    "[The Start of Assistant A’s Answer]\n",
    "{answer_a}\n",
    "[The End of Assistant A’s Answer]\n",
    "[The Start of Assistant B’s Answer]\n",
    "{answer_b}\n",
    "[The End of Assistant B’s Answer]\"\"\"\n",
    "    \n",
    "    completion = client.chat.completions.create(\n",
    "        model='gpt-4o-2024-05-13',\n",
    "        messages=[{'role': 'user', 'content': eval_prompt}],\n",
    "        temperature=0.0\n",
    "    )\n",
    "\n",
    "    return completion.choices[0].message.content"
   ]
  },
  {
   "cell_type": "markdown",
   "metadata": {},
   "source": [
    "# Baseline 모델 개발"
   ]
  },
  {
   "cell_type": "code",
   "execution_count": 20,
   "metadata": {},
   "outputs": [
    {
     "name": "stdout",
     "output_type": "stream",
     "text": [
      "이 숙소는 삼성역 근처에 위치해 있어 접근성이 뛰어나며, 코엑스와의 근접성도 장점으로 꼽힙니다. 객실은 깨끗하고 편안하며, 친절한 직원들이 인상적입니다. 가격 대비 가성비가 좋고, 셀프 체크인 시스템이 편리하다는 리뷰도 많습니다. 조식은 아메리칸 스타일로 제공되어 만족스럽고, 전반적으로 쾌적한 분위기를 제공합니다. 재방문 의사가 높은 고객들이 많아 긍정적인 평가가 이어지고 있습니다.\n"
     ]
    }
   ],
   "source": [
    "PROMPT_BASELINE = f\"\"\"아래 숙소 리뷰에 대해 5문장 내로 요약해줘:\"\"\"\n",
    "\n",
    "reviews, _ = preprocess_reviews(path = './resource/reviews.json')\n",
    "\n",
    "def summarize(reviews, prompt, temperature=0.0, model='gpt-4o-mini-2024-07-18'):\n",
    "    prompt = prompt + '\\n\\n' + reviews\n",
    "\n",
    "    completion = client.chat.completions.create(\n",
    "        model=model,\n",
    "        messages=[{'role':'user', 'content':prompt}],\n",
    "        temperature=temperature\n",
    "    )\n",
    "\n",
    "    return completion.choices[0].message.content\n",
    "\n",
    "print(summarize(reviews, PROMPT_BASELINE))"
   ]
  },
  {
   "cell_type": "code",
   "execution_count": 26,
   "metadata": {},
   "outputs": [],
   "source": [
    "summary_real_20240915 = '삼성역과 가까운 위치로 접근성이 뛰어나며, 코엑스와의 근접성도 장점으로 언급되었습니다. 객실의 청결 상태와 친절한 직원 서비스가 높은 평가를 받고 있으며, 조식과 부대시설 또한 만족스러운 것으로 확인되었습니다. 다만, 도로 근처에 위치해 소음이 발생할 수 있으며, 일부 청소 상태에서 아쉬운 점이 지적되었습니다. 가격 대비 가성비가 좋으며, 전반적으로 편안한 숙박 경험을 제공하는 시설입니다.'\n",
    "bad_summary_real_20240915 = '삼성역 1번출구와 가까운 위치에 있어 접근성이 뛰어납니다. 깨끗하고 청결한 편이나 객실이 상당히 작은 점이 아쉽다는 의견이 있습니다. 넷플릭스 이용이 가능하며, 조식은 맛있다는 평가도 있습니다. 고층으로 배정받은 경우 소음이 덜하였고, 그러나 주변 공사로 인한 소음 문제가 지적되기도 했습니다. 시설 및 서비스는 보통이며 예약이 편리하다는 장점이 있습니다.'\n"
   ]
  },
  {
   "cell_type": "code",
   "execution_count": 25,
   "metadata": {},
   "outputs": [
    {
     "name": "stdout",
     "output_type": "stream",
     "text": [
      "Both assistants provided summaries of the user reviews, but there are notable differences in their responses.\n",
      "\n",
      "**Assistant A:**\n",
      "- Focuses on the positive aspects of the accommodation, such as its proximity to Samsung Station and COEX, the cleanliness and comfort of the rooms, the friendly staff, and the convenience of the self-check-in system.\n",
      "- Mentions the American-style breakfast and the overall good value for money.\n",
      "- Briefly notes that parking is paid but does not delve into any negative aspects.\n",
      "\n",
      "**Assistant B:**\n",
      "- Also highlights the positive aspects like the location near Samsung Station and COEX, the cleanliness of the rooms, and the friendly staff.\n",
      "- Adds details about the breakfast and facilities being satisfactory.\n",
      "- Includes potential downsides such as noise from the nearby road and some issues with the cleaning state.\n",
      "- Emphasizes the good value for money and overall comfortable stay.\n",
      "\n",
      "**Evaluation:**\n",
      "- **Helpfulness:** Both summaries are helpful, but Assistant B provides a more balanced view by including potential downsides.\n",
      "- **Relevance:** Both responses are relevant to the user reviews.\n",
      "- **Accuracy:** Both assistants accurately reflect the user reviews, but Assistant B adds more depth by mentioning both positive and negative aspects.\n",
      "- **Depth:** Assistant B offers a deeper analysis by including potential issues like noise and cleaning.\n",
      "- **Creativity:** Both responses are straightforward and factual, with no significant difference in creativity.\n",
      "- **Level of Detail:** Assistant B provides more detail by mentioning specific potential issues.\n",
      "\n",
      "**Conclusion:**\n",
      "Assistant B's response is more comprehensive and balanced, providing a fuller picture of the accommodation by including both positive and negative aspects. This makes it more useful for potential guests looking for a thorough understanding of the accommodation.\n",
      "\n",
      "**Final Verdict:**\n",
      "[[B]]\n"
     ]
    }
   ],
   "source": [
    "print(pairwise_eval(reviews, summarize(reviews, PROMPT_BASELINE), summary_real_20240915))"
   ]
  },
  {
   "cell_type": "markdown",
   "metadata": {},
   "source": [
    "### 대규모 평가 스크립트\n",
    "- 원래는 많은 수의 다양한 데이터에 대해 평가를 하지만, 동일한 Prompt에 대해 temperature 높여서 평가 진행"
   ]
  },
  {
   "cell_type": "code",
   "execution_count": 27,
   "metadata": {},
   "outputs": [
    {
     "data": {
      "text/plain": [
       "['이 숙소는 가격이 합리적이며 삼성역과 가까워 접근성이 뛰어나고 위치가 좋습니다. 객실은 깔끔하고 청결하며 직원들도 친절하여 이용하기 편리합니다. 조식이 포함되어 있어 알찬 선택이 가능하고, 셀프 체크인 시스템으로 편안하게 이용할 수 있습니다. 다양한 부대시설이 갖춰져 있어 출장이나 여행 중 편안한 휴식을 제공합니다. 전반적으로 매우 만족스러운 경험을 제공하는 호텔입니다.',\n",
       " '이 숙소는 우수한 가격과 쾌적한 환경 덕분에 많은 이용자들에게 호평받고 있습니다. 위치가 삼성역과 가까워 접근성이 뛰어나며, 코엑스와의 근접성도 큰 장점으로 꼽힙니다. 숙소는 매우 깨끗하고 친절한 직원들이 좋은 서비스를 제공하며, 편안한 침구와 조식도 만족스럽다는 리뷰가 많습니다. 고객들은 셀프 체크인 시스템과 주차 편의성도 긍정적으로 평가하고 있습니다. 전반적으로 재방문 의사를 밝히는 리뷰가 많아 전반적인 만족도가 높은 곳입니다.',\n",
       " '리뷰 요약: 이 숙소는 접근성이 뛰어나고, 깨끗하며, 친절한 스태프가 인상적이라는 평가가 많습니다. 삼성역과 가까워 편리하며, 조식도 만족스럽고 편안한 침구로 휴식을 취하기 좋습니다. 가격 대비 훌륭한 가성비가 밝혀졌고, 다양한 편의시설이 잘 갖춰져 있습니다. 전체적으로 만족스러운 경험을 제공하는 곳으로, 재방문 의사가 높습니다.',\n",
       " '이 숙소는 삼성역에 가까워 접근성이 뛰어나며, 깨끗하고 편안한 환경을 제공합니다. 직원들이 친절하고, 셀프 체크인 시스템이 편리해 많은 방문객들이 만족하고 있습니다. 조식은 훌륭하며, 다양한 편의시설도 가까이에 있어 편리한 숙박을 제공합니다. 여러 리뷰에서 가성비와 청결, 친절한 서비스가 특히 언급되고 있습니다. 전반적으로 방문객들은 이곳에서 편안하고 즐거운 시간을 보냈다는 긍정적인 평가를 남겼습니다.',\n",
       " '전체적으로 리뷰에서 언급된 바에 따르면, 이 숙소는 삼성역 바로 앞에 위치해 접근성이 매우 좋으며, 주변에 다양한 편의시설이 있다는 점에서 높은 평가를 받고 있습니다. 객실은 깨끗하고 쾌적하며, 침구 상태도 좋고 서비스가 친절하다는 내용이 많아 고객 만족도가 높습니다. 아침 식사는 아메리칸 스타일로 제공되며, 무인 셀프 체크인 시스템이 도입되어 편리함이 강조됩니다. 전반적으로 가성비가 뛰어난 숙소로 인식되며, 많은 고객이 재방문 의사를 나타내고 있습니다. 단, 주차에 대한 불만이 일부 있었습니다.',\n",
       " '이 숙소는 위치가 삼성역과 가까워 접근성이 뛰어나며, 주변 편의시설이 많아 편리하다는 리뷰가 많습니다. 객실은 전반적으로 깨끗하고 깔끔하며, 침구류가 편안하다는 평가를 받고 있습니다. 직원들이 친절하고 서비스가 훌륭하다는 의견도 자주 확인됩니다. 가성비가 좋고 조식이 맛있다는 후기도 있으며, 특별한 데이 유즈 프로모션이 있으면 좋겠다는 의견도 있습니다. 전반적으로 쾌적한 분위기 속에서 편안하게 지낼 수 있는 곳으로 인식되고 있습니다.',\n",
       " '리뷰는 장소의 뛰어난 위치와 청결함, 친절한 직원들에 대한 만족감을 표현하고 있습니다. 삼성역 근처에 위치해 있어 접근성이 매우 좋으며, 코엑스와의 근접성도 언급됩니다. 객실은 깔끔하고 편안한 침구가 제공되어 편히 쉴 수 있는 환경을 제공합니다. 또한, 조식과 같은 부대시설도 호평을 받고 있으며, 고속 체크인과 같은 편리한 서비스가 강조됩니다. 전반적으로 가성비와 쾌적함이 뛰어난 숙소라는 긍정적인 의견이 많습니다.',\n",
       " '이 숙소는 삼성역과 가까워서 접근성이 뛰어나며, 주변에 식사와 편의시설이 많아 편리합니다. 객실은 깔끔하고 청결 상태가 좋으며, 직원의 친절한 서비스가 돋보입니다. 가격 대비 좋은 가성비를 제공하고, 셀프 체크인 시스템이 편리합니다. 조식 메뉴도 알차고 맛있다는 의견이 많았고, 전체적으로 쾌적한 분위기 속에서 편안한 휴식을 취할 수 있다는 점이 강조되었습니다. 재방문 의사가 높고 만족도가 매우 높은 숙소입니다.',\n",
       " '숙소는 위치가 매우 좋고 삼성역과 가까워 접근성이 뛰어나며, 코엑스와의 근접성도 장점으로 언급되고 있습니다. 객실은 깔끔하고 청결하며 침구가 편안하다는 리뷰가 많습니다. 또한, 직원들의 친절한 서비스와 간편한 셀프 체크인 시스템이 인상적입니다. 조식은 아메리칸 스타일로 구성되어 있어 만족스럽다는 평가를 받고 있습니다. 전반적으로 가성비가 좋고 편안하게 쉴 수 있는 숙소로 추천받고 있습니다.',\n",
       " '기타 위생적이고 접근성이 좋은 숙소입니다. 삼성역 근처에 위치해 있어 편리하며, 지하철과의 연결이 우수합니다. 직원들이 친절하고 체크인/아웃이 간편하여 편안한 경험을 제공합니다. 여러 리뷰에서 청결과 쾌적함에 대한 긍정적인 피드백이 많으며, 가성비도 뛰어나다는 평가를 받고 있습니다. 전반적으로 다음 방문 의사가 높은 호텔입니다.']"
      ]
     },
     "execution_count": 27,
     "metadata": {},
     "output_type": "execute_result"
    }
   ],
   "source": [
    "eval_count = 10\n",
    "\n",
    "summaries_baseline = [summarize(reviews, PROMPT_BASELINE, temperature=1.0) for _ in range(eval_count)]\n",
    "summaries_baseline"
   ]
  },
  {
   "cell_type": "code",
   "execution_count": 28,
   "metadata": {},
   "outputs": [
    {
     "name": "stderr",
     "output_type": "stream",
     "text": [
      "100%|██████████| 10/10 [00:40<00:00,  4.04s/it]"
     ]
    },
    {
     "name": "stdout",
     "output_type": "stream",
     "text": [
      "Wins : 3, Losses : 7, Ties : 0\n"
     ]
    },
    {
     "name": "stderr",
     "output_type": "stream",
     "text": [
      "\n"
     ]
    }
   ],
   "source": [
    "from tqdm import tqdm\n",
    "\n",
    "def pairwise_eval_batch(reviews, answers_a, answers_b):\n",
    "    a_count, b_count, draw_count = 0, 0, 0\n",
    "    for i in tqdm(range(len(answers_a))):\n",
    "        result = pairwise_eval(reviews, answers_a[i], answers_b[i])\n",
    "        verdict_text = result\n",
    "\n",
    "        if '[[A]]' in verdict_text:\n",
    "            a_count += 1\n",
    "        elif '[[B]]' in verdict_text:\n",
    "            b_count += 1\n",
    "        elif '[[C]]' in verdict_text:\n",
    "            draw_count += 1\n",
    "        else:\n",
    "            print('Evaluation Error')\n",
    "    return a_count, b_count, draw_count\n",
    "\n",
    "wins, losses, ties = pairwise_eval_batch(reviews, summaries_baseline, [summary_real_20240915 for _ in range(len(summaries_baseline))])\n",
    "\n",
    "print(f'Wins : {wins}, Losses : {losses}, Ties : {ties}')\n"
   ]
  },
  {
   "cell_type": "markdown",
   "metadata": {},
   "source": [
    "### 모델 고도화1 - 조건들 명시"
   ]
  },
  {
   "cell_type": "code",
   "execution_count": 30,
   "metadata": {},
   "outputs": [
    {
     "data": {
      "text/plain": [
       "['이번 숙소 리뷰에서는 접근성과 청결, 친절한 서비스에 대한 긍정적인 피드백이 두드러지게 나타났습니다. 삼성역과 코엑스몰 근처에 위치하여 대중교통 이용이 용이하고, 객실이 깔끔하다는 점이 호평받고 있습니다. 또한, 스태프의 친절함과 편리한 체크인 시스템 덕분에 편안한 숙박 경험을 하셨다고 말씀하셨습니다. 전반적으로 매우 만족스러운 숙소인 것 같습니다.',\n",
       " '글래드 코엑스점은 우수한 위치와 접근성으로 많은 분들께 사랑받는 숙소입니다. 깨끗한 객실과 친절한 직원들 덕분에 편안한 숙박 경험을 제공하며, 특히 무인 셀프 체크인 시스템이 편리하다는 평가가 많습니다. 숙소에서 제공하는 조식도 아침 식사로 적절하며, 다양한 편의시설이 근처에 위치해 있어 더욱 만족스러운 선택이 될 것 같습니다. 재방문 의사가 높은 리뷰들이 많아, 안심하고 이용하실 수 있는 숙소입니다.',\n",
       " '숙소에 대한 리뷰를 종합해보면, 위치와 접근성이 매우 우수하여 삼성역과 코엑스 근처에 있어 편리하다는 평이 많습니다. 많은 이용자분들이 숙소의 청결 상태와 친절한 직원 서비스에 만족하고 있으며, 특히 침구가 편안하다는 점이 자주 언급되고 있습니다. 또한 조식 또한 맛있고 다양하다는 인상이 있습니다. 여러 리뷰에서 재방문 의사가 확인되며, 고객분들이 이 숙소에서 쾌적한 시간을 보내셨음을 잘 알 수 있습니다.',\n",
       " '이 숙소는 접근성이 뛰어난 위치에 있으며, 청결하고 아늑한 분위기로 고객들에게 높은 만족도를 주고 있습니다. 삼성역과 가까워 대중교통 이용이 편리하며, 코엑스와의 인접성으로 다채로운 부대시설도 쉽게 이용할 수 있습니다. 직원들의 친절함과 훌륭한 서비스도 많은 호평을 받고 있으며, 조식 또한 맛있다는 의견이 많습니다. 여러 리뷰에서 재방문 의사를 밝히며, 다양한 편의 시설과 쾌적한 숙소 조건으로 좋은 힐링 공간으로 자리 잡고 있다는 평이 있습니다.',\n",
       " '글래드 호텔은 적절한 가격에 쾌적한 숙소를 제공하여 많은 손님들에게 사랑받고 있습니다. 삼성역과 가까운 위치 덕분에 코엑스와 다양한 편의시설에 쉽게 접근할 수 있어 출장이나 여행 중에도 매우 편리하다는 리뷰가 많습니다. 또한, 호텔의 청결 상태와 친절한 직원 서비스에 대한 만족도 또한 높았습니다. 일부 고객님들은 시설과 서비스가 만족스럽고 재방문할 의사를 밝혀 더욱 긍정적인 경험을 하고 계십니다. ',\n",
       " '글래드 코엑스점은 접근성과 청결함에서 매우 높은 평가를 받고 있습니다. 삼성역과 가까워 대중교통 이용이 용이하며, 코엑스와의 근접성 덕분에 다양한 편의시설도 쉽게 이용할 수 있습니다. 객실은 깔끔하고 조용하며, 친절한 스태프의 서비스로 더욱 쾌적한 숙박 경험을 제공합니다. 특히, 셀프 체크인 시스템이 편리하다는 의견이 많습니다. 재방문 계획이 있다는 리뷰들도 다수 있어, 전반적으로 만족도가 높은 숙소임을 알 수 있습니다.',\n",
       " '숙소에 대한 전반적인 평가는 매우 긍정적입니다. 삼성역 바로 앞에 위치해 있어 접근성이 뛰어나다는 점이 특히 강조되고 있습니다. 이용객들은 숙소의 청결함과 직원들의 친절함에 만족하고 있으며, 시설 및 서비스에 대한 평가도 높습니다. 많은 분들이 재방문 의사를 밝혔고, 다음에도 꼭 이용하고 싶다는 의견이 많습니다. 또한, 조식과 같은 부대시설도 만족스러웠다는 언급이 있어, 전반적으로 쾌적한 숙박을 제공하는 곳으로 평가받고 있습니다.',\n",
       " '숙소에 대한 리뷰를 종합적으로 요약하겠습니다. 전반적으로 이 숙소는 삼성역과 가까워 접근성이 뛰어나며, 코엑스와의 근접성도 큰 장점입니다. 특히 청결 상태와 쾌적한 분위기에 대한 칭찬이 많으며, 친절한 직원들 덕분에 만족스러운 숙박 경험이 되었다는 평이 많습니다. 또한, 합리적인 가격대와 함께 다양한 편의 시설이 제공되어 재방문 의사를 나타내는 리뷰들이 다수 존재합니다. 전체적으로 이 숙소는 훌륭한 선택으로 보입니다.',\n",
       " '해당 숙소는 접근성이 뛰어나고, 지하철 삼성역 근처에 위치해 있어 이동이 매우 편리합니다. 고객님들께서는 깨끗한 객실과 친절한 스태프들 덕분에 쾌적하게 휴식을 취하셨다는 의견을 주셨습니다. 조식 또한 만족스러웠으며, 다양한 부대시설이 잘 갖추어져 있어 가성비가 뛰어난 곳이라고 평가해 주셨습니다. 전반적으로, 많은 고객님들이 만족스러운 경험을 하셨다는 평을 남기셨습니다. 다음에도 재방문 의사를 밝히는 고객님들이 많아, 지속적으로 높은 만족도를 유지하는 숙소입니다.',\n",
       " '글래드 코엑스점은 전반적으로 접근성이 뛰어나고 쾌적한 환경을 제공하여 많은 고객들로부터 긍정적인 평가를 받고 있습니다. 객실의 청결 상태와 친절한 직원 서비스는 여러 번 재방문을 이끌어내는 주요 요인으로 작용하고 있습니다. 특히 삼성역과의 근접성 덕분에 편리하게 이동할 수 있어 출장 및 여행 중 편안하게 머무를 수 있는 곳으로 추천받고 있습니다. 고객들은 이곳의 조식과 시설에 대해서도 높은 만족감을 표현하고 있습니다.']"
      ]
     },
     "execution_count": 30,
     "metadata": {},
     "output_type": "execute_result"
    }
   ],
   "source": [
    "prompt = f\"\"\"당신은 요약 전문가입니다. 사용자 숙소 리뷰들이 주어졌을 때 요약하는 것이 당신의 목표입니다.\n",
    "\n",
    "요약 결과는 다음 조건들을 충족해야 합니다:\n",
    "1. 모든 문장은 항상 존댓말로 끝나야 합니다.\n",
    "2. 숙소에 대해 소개하는 톤앤매너로 작성해주세요.\n",
    "  2-1. 좋은 예시\n",
    "    a) 전반적으로 좋은 숙소였고 방음도 괜찮았다는 평입니다.\n",
    "    b) 재방문 예정이라는 평들이 존재합니다.\n",
    "  2-2. 나쁜 예시\n",
    "    a) 좋은 숙소였고 방음도 괜찮았습니다.\n",
    "    b) 재방문 예정입니다.\n",
    "3. 요약 결과는 최소 2문장, 최대 5문장 사이로 작성해주세요.\n",
    "    \n",
    "아래 숙소 리뷰들에 대해 요약해주세요:\"\"\"\n",
    "\n",
    "eval_count = 10\n",
    "summaries = [summarize(reviews, prompt, temperature=1.0) for _ in range(eval_count)]\n",
    "summaries"
   ]
  },
  {
   "cell_type": "code",
   "execution_count": 32,
   "metadata": {},
   "outputs": [
    {
     "name": "stderr",
     "output_type": "stream",
     "text": [
      "100%|██████████| 10/10 [00:50<00:00,  5.01s/it]"
     ]
    },
    {
     "name": "stdout",
     "output_type": "stream",
     "text": [
      "Wins : 2, Losses : 8, Ties : 0\n"
     ]
    },
    {
     "name": "stderr",
     "output_type": "stream",
     "text": [
      "\n"
     ]
    }
   ],
   "source": [
    "wins, losses, ties = pairwise_eval_batch(reviews, summaries, [summary_real_20240915 for _ in range(eval_count)])\n",
    "\n",
    "print(f'Wins : {wins}, Losses : {losses}, Ties : {ties}')\n"
   ]
  },
  {
   "cell_type": "markdown",
   "metadata": {},
   "source": [
    "### 모델 고도화2 - 입력 데이터의 품질 증가"
   ]
  },
  {
   "cell_type": "code",
   "execution_count": 35,
   "metadata": {},
   "outputs": [
    {
     "name": "stdout",
     "output_type": "stream",
     "text": [
      "# filtered_count : 119\n"
     ]
    }
   ],
   "source": [
    "import datetime\n",
    "from dateutil import parser\n",
    "\n",
    "# 전처리 함수 v2 : 내용이 적은 리뷰는 걸러냄\n",
    "def preprocess_reviews_v2(path='./resource/reviews.json'):\n",
    "    \n",
    "    with open(path, 'r', encoding='utf-8') as f:\n",
    "        reviews = json.load(f)\n",
    "\n",
    "    # good = 별점 5개\n",
    "    # bad = 별점 4개 이하\n",
    "    SPECIAL_TOKEN_PREFIX = '[REVIEW_START]'\n",
    "    SPECIAL_TOKEN_SUFFIX = '[REVIEW_END]'\n",
    "    good_reviews, bad_reviews = [], []\n",
    "\n",
    "    current_date = datetime.datetime.now()\n",
    "    date_boundary = current_date - datetime.timedelta(days=6*30)\n",
    "\n",
    "    filtered_count = 0\n",
    "    for r in reviews:\n",
    "        review_date_string = r['date']\n",
    "        try:\n",
    "            review_date = parser.parse(review_date_string)\n",
    "        except (ValueError, TypeError):\n",
    "            # '22시간 전' 같은 문자로 된 날짜는 현재 날짜로 처리\n",
    "            review_date = current_date\n",
    "\n",
    "        # 6개월 이전 리뷰는 제외\n",
    "        if review_date < date_boundary:\n",
    "            continue\n",
    "        if len(r['review']) < 30:\n",
    "            filtered_count += 1\n",
    "            # print(r['review'])\n",
    "            continue\n",
    "\n",
    "        if r['stars'] >= 5:\n",
    "            good_reviews.append(f\"{SPECIAL_TOKEN_PREFIX}{r['review']}{SPECIAL_TOKEN_SUFFIX}\")\n",
    "        else:\n",
    "            bad_reviews.append(f\"{SPECIAL_TOKEN_PREFIX}{r['review']}{SPECIAL_TOKEN_SUFFIX}\")\n",
    "\n",
    "    good_reviews_text = '\\n'.join(good_reviews)\n",
    "    bad_reviews_text = '\\n'.join(bad_reviews)\n",
    "\n",
    "    print(f'# filtered_count : {filtered_count}')\n",
    "\n",
    "    return good_reviews_text, bad_reviews_text\n",
    "\n",
    "reviews, _ = preprocess_reviews_v2()\n"
   ]
  },
  {
   "cell_type": "code",
   "execution_count": 37,
   "metadata": {},
   "outputs": [],
   "source": [
    "eval_count = 10\n",
    "summaries = [summarize(reviews, prompt, temperature=1.0) for _ in range(eval_count)]\n",
    "summaries"
   ]
  },
  {
   "cell_type": "code",
   "execution_count": null,
   "metadata": {},
   "outputs": [],
   "source": [
    "wins, losses, ties = pairwise_eval_batch(reviews, summaries, [summary_real_20240915 for _ in range(eval_count)])\n",
    "\n",
    "print(f'Wins : {wins}, Losses : {losses}, Ties : {ties}')\n"
   ]
  }
 ],
 "metadata": {
  "kernelspec": {
   "display_name": ".venv",
   "language": "python",
   "name": "python3"
  },
  "language_info": {
   "codemirror_mode": {
    "name": "ipython",
    "version": 3
   },
   "file_extension": ".py",
   "mimetype": "text/x-python",
   "name": "python",
   "nbconvert_exporter": "python",
   "pygments_lexer": "ipython3",
   "version": "3.10.13"
  }
 },
 "nbformat": 4,
 "nbformat_minor": 2
}
